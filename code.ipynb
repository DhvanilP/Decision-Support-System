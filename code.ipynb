{
 "cells": [
  {
   "cell_type": "markdown",
   "metadata": {},
   "source": [
    "# Decison Support System\n",
    "### Deciding Factors\n",
    "- Longevity: time since review\n",
    "- Length of title and text: count the number of words\n",
    "- Helpfulness of a review: ratio of “helpful votes” to “total votes”\n",
    "- Readership: total number of votes of a review\n",
    "- Select products wtih atleast 100 reviews, eliminated the reviews that had less than 4 votes\n",
    "- Polarity = positive sentiment + negative sentiment\n",
    "- Sentiment = positive sentiment - negative sentiment - 2:"
   ]
  },
  {
   "cell_type": "code",
   "execution_count": null,
   "metadata": {},
   "outputs": [],
   "source": [
    "import pandas as pd\n",
    "import numpy as np\n",
    "import gzip \n",
    "import json\n",
    "import shutil\n",
    "import time\n",
    "import math\n",
    "import matplotlib.pyplot as plt\n",
    "import pymc3 as pm\n",
    "import seaborn as sns\n",
    "import re\n",
    "from sklearn.linear_model import LinearRegression"
   ]
  },
  {
   "cell_type": "code",
   "execution_count": null,
   "metadata": {
    "scrolled": true
   },
   "outputs": [],
   "source": [
    "def getSentimentsAndLengthFromFile(nameOfFile):\n",
    "    df=pd.DataFrame()\n",
    "    file = open(nameOfFile, encoding = \"utf8\")\n",
    "    count = 0\n",
    "    column_names = []\n",
    "    for line in file:\n",
    "        count=count+1\n",
    "        if count is 1:\n",
    "            column_names = line.split('\\t')\n",
    "            df=pd.DataFrame(columns = column_names)\n",
    "        temp_line = line.rstrip().split('\\t')\n",
    "        df = df.append(pd.Series(temp_line ,index = column_names), ignore_index = True)\n",
    "    file.close()\n",
    "    return df\n",
    "\n",
    "def unzipJson(filename, saveas):\n",
    "    \"both arguments are strings\"\n",
    "    with gzip.open(filename, 'rb') as f_in:\n",
    "        with open(saveas, 'wb') as f_out:\n",
    "            shutil.copyfileobj(f_in, f_out)\n",
    "            \n",
    "def getDataFromJsonFile(filename, noOfRev):\n",
    "    count = 0\n",
    "    df = pd.DataFrame()\n",
    "    with open(filename, 'r') as f:\n",
    "        for line in f:\n",
    "            if count == noOfRev:\n",
    "                break\n",
    "            count = count + 1\n",
    "            if count%500==0:\n",
    "                print(count)\n",
    "            data = json.loads(line)\n",
    "            dictionary=json.loads(line)\n",
    "            dictionary[\"helpful\"] = str(dictionary[\"helpful\"][0])+\":\"+str(dictionary[\"helpful\"][1])\n",
    "            df = df.append(pd.DataFrame(dictionary,index = [count]), sort = False)\n",
    "    return df\n",
    "\n",
    "def plot_traces(trcs, varnames=None):\n",
    "    '''Plot traces with overlaid means and values'''\n",
    "    nrows = len(trcs.varnames)\n",
    "    if varnames is not None:\n",
    "        nrows = len(varnames)\n",
    "\n",
    "    ax = pm.traceplot(trcs, varnames=varnames, figsize=(12,nrows*1.4),\n",
    "                      lines={k: v['mean'] for k, v in\n",
    "                             pm.summary(trcs,varnames=varnames).iterrows()})\n",
    "\n",
    "    for i, mn in enumerate(pm.summary(trcs, varnames=varnames)['mean']):\n",
    "        ax[i,0].annotate('{:.2f}'.format(mn), xy=(mn,0), xycoords='data',\n",
    "                         xytext=(5,10), textcoords='offset points', rotation=90,\n",
    "                         va='bottom', fontsize='large', color='#AA0022')\n",
    "\n",
    "def strip_derived_rvs(rvs):\n",
    "    '''Remove PyMC3-generated RVs from a list'''\n",
    "    ret_rvs = []\n",
    "    for rv in rvs:\n",
    "        if not (re.search('_log',rv.name) or re.search('_interval',rv.name)):\n",
    "            ret_rvs.append(rv)\n",
    "    return ret_rvs"
   ]
  },
  {
   "cell_type": "markdown",
   "metadata": {},
   "source": [
    "#### Description of the below cell\n",
    "- unzip the json.gz file \n",
    "- get a dataFrame consisting of 35000 reviews\n",
    "- store this dataFrame in a csv file\n",
    "- now this csv file is converted to a txt file that is then\n",
    "    analysed using the sentistrength software, resulting is a\n",
    "    txt file having analysed result"
   ]
  },
  {
   "cell_type": "code",
   "execution_count": null,
   "metadata": {},
   "outputs": [],
   "source": [
    "# unzipJson(\"reviews_Electronics_5.json.gz\",\"reviews_Electronics_5.json\")\n",
    "# df = getDataFromJsonFile(\"reviews_Electronics_5.json\",35000)\n",
    "# df.to_csv(\"dataset_electronic.csv\")\n"
   ]
  },
  {
   "cell_type": "markdown",
   "metadata": {},
   "source": [
    "#### Description of the below cell\n",
    "- dataset_analysed.txt contains all the analysed data that is converted to a dataFrame\n",
    "- dataFrame is stored in a csv file for faster access next time\n"
   ]
  },
  {
   "cell_type": "code",
   "execution_count": null,
   "metadata": {},
   "outputs": [],
   "source": [
    "# data = getSentimentsAndLengthFromFile(\"dataset_analysed.txt\")"
   ]
  },
  {
   "cell_type": "code",
   "execution_count": null,
   "metadata": {},
   "outputs": [],
   "source": [
    "# data = data.drop(0,0)\n",
    "# data.to_csv(\"dataset.csv\")"
   ]
  },
  {
   "cell_type": "code",
   "execution_count": null,
   "metadata": {},
   "outputs": [],
   "source": [
    "# data['polarityText'] = data['reviewTextPositive'] + data['reviewTextNegative']\n",
    "# data['polaritySummary'] = data['summaryPositive'] + data['summaryNegative\\n']\n",
    "# data['sentimentText'] = data['reviewTextPositive'] - data['reviewTextNegative']-2\n",
    "# data['sentimentSummary'] = data['summaryPositive'] - data['summaryNegative\\n'] - 2\n",
    "# data['summaryLength'] = data['summary'].str.split().str.len()\n",
    "# data['reviewTextLength'] = data['reviewText'].str.split().str.len()\n",
    "# data['readership'] = data['helpful'].str.split(':').str[1]\n",
    "# data['longetivity'] = time.time() - data['unixReviewTime']\n",
    "# del data['no']"
   ]
  },
  {
   "cell_type": "code",
   "execution_count": null,
   "metadata": {},
   "outputs": [],
   "source": [
    "# data.to_csv(\"dataset.csv\")"
   ]
  },
  {
   "cell_type": "code",
   "execution_count": null,
   "metadata": {},
   "outputs": [],
   "source": [
    "# read the dataset\n",
    "data = pd.read_csv('dataset.csv',index_col=0)\n",
    "data['helpful_votes'] = data['helpful'].str.split(':').str[0]\n",
    "data['helpful_votes'] = data.helpful_votes.astype(float)\n",
    "data['longetivity'] = data['longetivity']//86400\n",
    "# data.head()\n"
   ]
  },
  {
   "cell_type": "code",
   "execution_count": null,
   "metadata": {},
   "outputs": [],
   "source": [
    "# Select products wtih atleast 100 reviews, eliminated the reviews that had less than 4 votes\n",
    "tempDf = data.groupby('asin').size().rename(\"countOfReviews\").reset_index()\n",
    "data = data.merge(tempDf)\n",
    "data = data[data['countOfReviews'] >= 100]\n",
    "data = data.loc[data['readership'] >= 4]"
   ]
  },
  {
   "cell_type": "code",
   "execution_count": null,
   "metadata": {},
   "outputs": [],
   "source": [
    "table1Df = pd.DataFrame(columns=['range', 'median', 'mean', 'SD'], \n",
    "                        index = ['Rating', 'Longetivity', 'Total Votes', 'Helpful votes', 'Title sentiment',\n",
    "                                 'Title polarity', 'Review sentiment', 'Review polarity', 'Title length', 'Review length'])\n",
    "\n",
    "table1Df.loc['Rating'] = pd.Series({\n",
    "    'range' : str(data['overall'].min())+'-'+str(data['overall'].max()),\n",
    "    'median' : data['overall'].median(),\n",
    "    'mean' : data['overall'].mean(),\n",
    "    'SD' : data['overall'].std()\n",
    "})\n",
    "table1Df.loc['Longetivity'] = pd.Series({\n",
    "    'range' : str(data['longetivity'].min())+'-'+str(data['longetivity'].max()),\n",
    "    'median' : data['longetivity'].median(),\n",
    "    'mean' : data['longetivity'].mean(),\n",
    "    'SD' : data['longetivity'].std()\n",
    "})\n",
    "table1Df.loc['Total Votes'] = pd.Series({\n",
    "    'range' : str(data['readership'].min())+'-'+str(data['readership'].max()),\n",
    "    'median' : data['readership'].median(),\n",
    "    'mean' : data['readership'].mean(),\n",
    "    'SD' : data['readership'].std()\n",
    "})\n",
    "table1Df.loc['Helpful votes'] = pd.Series({\n",
    "    'range' : str(data['helpful_votes'].min())+'-'+str(data['helpful_votes'].max()),\n",
    "    'median' : data['helpful_votes'].median(),\n",
    "    'mean' : data['helpful_votes'].mean(),\n",
    "    'SD' : data['helpful_votes'].std()\n",
    "})\n",
    "table1Df.loc['Title sentiment'] = pd.Series({\n",
    "    'range' : str(data['sentimentSummary'].min())+'-'+str(data['sentimentSummary'].max()),\n",
    "    'median' : data['sentimentSummary'].median(),\n",
    "    'mean' : data['sentimentSummary'].mean(),\n",
    "    'SD' : data['sentimentSummary'].std()\n",
    "})\n",
    "table1Df.loc['Title polarity'] = pd.Series({\n",
    "    'range' : str(data['polaritySummary'].min())+'-'+str(data['polaritySummary'].max()),\n",
    "    'median' : data['polaritySummary'].median(),\n",
    "    'mean' : data['polaritySummary'].mean(),\n",
    "    'SD' : data['polaritySummary'].std()\n",
    "})\n",
    "table1Df.loc['Review sentiment'] = pd.Series({\n",
    "    'range' : str(data['sentimentText'].min())+'-'+str(data['sentimentText'].max()),\n",
    "    'median' : data['sentimentText'].median(),\n",
    "    'mean' : data['sentimentText'].mean(),\n",
    "    'SD' : data['sentimentText'].std()\n",
    "})\n",
    "table1Df.loc['Review polarity'] = pd.Series({\n",
    "    'range' : str(data['polarityText'].min())+'-'+str(data['polarityText'].max()),\n",
    "    'median' : data['polarityText'].median(),\n",
    "    'mean' : data['polarityText'].mean(),\n",
    "    'SD' : data['polarityText'].std()\n",
    "})\n",
    "table1Df.loc['Title length'] = pd.Series({\n",
    "    'range' : str(data['summaryLength'].min())+'-'+str(data['summaryLength'].max()),\n",
    "    'median' : data['summaryLength'].median(),\n",
    "    'mean' : data['summaryLength'].mean(),\n",
    "    'SD' : data['summaryLength'].std()\n",
    "})\n",
    "table1Df.loc['Review length'] = pd.Series({\n",
    "    'range' : str(data['reviewTextLength'].min())+'-'+str(data['reviewTextLength'].max()),\n",
    "    'median' : data['reviewTextLength'].median(),\n",
    "    'mean' : data['reviewTextLength'].mean(),\n",
    "    'SD' : data['reviewTextLength'].std()\n",
    "})\n"
   ]
  },
  {
   "cell_type": "markdown",
   "metadata": {},
   "source": [
    "## Formula\n",
    "- log(Total Votes) = B0 + B1 * Title_Sentiment + B2 * TITLE_POSTIVE + B3 * Title_length + B4 * Title_Sentiment * TITLE_POSTIVE + B5 * log(Review_Length) + B6 * log(Longevity)"
   ]
  },
  {
   "cell_type": "code",
   "execution_count": null,
   "metadata": {},
   "outputs": [],
   "source": [
    "data\n",
    "table1Df\n"
   ]
  },
  {
   "cell_type": "code",
   "execution_count": 56,
   "metadata": {},
   "outputs": [],
   "source": [
    "readerData = pd.DataFrame()\n",
    "readerData['Title_Sentiment'] = data['sentimentSummary']\n",
    "readerData['TITLE_POSITIVE'] = data['polaritySummary']\n",
    "readerData.loc[readerData['TITLE_POSITIVE'] > 0,'temp'] = 1\n",
    "readerData.loc[readerData['TITLE_POSITIVE'] <= 0,'temp'] = 0\n",
    "readerData['TITLE_POSITIVE'] = readerData['temp']\n",
    "del readerData['temp']\n",
    "readerData['Title_Length'] = data['summaryLength']\n",
    "readerData['B4_mul'] = readerData['Title_Sentiment'] * readerData['TITLE_POSITIVE']\n",
    "readerData['B5_mul'] = np.log(data['reviewTextLength'])\n",
    "readerData['B6_mul'] = np.log(data['longetivity'])\n",
    "readerData['TITLE_POSITIVE'] = data['summaryPositive']\n",
    "logTotalVotes = np.log10(data['readership'])"
   ]
  },
  {
   "cell_type": "code",
   "execution_count": 57,
   "metadata": {},
   "outputs": [],
   "source": [
    "reg_for_reader = LinearRegression().fit(readerData, logTotalVotes)"
   ]
  },
  {
   "cell_type": "code",
   "execution_count": 61,
   "metadata": {},
   "outputs": [
    {
     "data": {
      "text/plain": [
       "array([-0.01047036, -0.07413579,  0.0048672 ,  0.04432912,  0.09628507,\n",
       "        0.42113113])"
      ]
     },
     "execution_count": 61,
     "metadata": {},
     "output_type": "execute_result"
    }
   ],
   "source": [
    "readerData['logTotalVotes'] = logTotalVotes\n",
    "reg_for_reader.coef_\n",
    "# reg_for_reader.intercept_ "
   ]
  },
  {
   "cell_type": "code",
   "execution_count": 71,
   "metadata": {},
   "outputs": [],
   "source": [
    "helpful = pd.DataFrame()\n",
    "helpful['Review_Sentiment'] = data['sentimentText']\n",
    "helpful['REVIEW_NEUTRAL'] = data['polarityText']\n",
    "helpful.loc[helpful['REVIEW_NEUTRAL'] == 0,'temp'] = 1\n",
    "helpful.loc[helpful['REVIEW_NEUTRAL'] != 0,'temp'] = 0\n",
    "helpful['REVIEW_NEUTRAL'] = helpful\n",
    "['temp']\n",
    "del helpful['temp']\n",
    "helpful['B3_mul'] = np.log(data['reviewTextLength'])\n",
    "helpful['B4_mul'] = helpful['Review_Sentiment']*helpful['REVIEW_NEUTRAL']\n",
    "helpful['B5_mul'] = np.log(data['longetivity'])\n",
    "numerator = data['helpful'].str.split(':',n=1,expand=True)[0].astype(float)\n",
    "denominator = data['helpful'].str.split(':',n=1,expand=True)[1].astype(float)\n",
    "ratio=numerator/denominator"
   ]
  },
  {
   "cell_type": "code",
   "execution_count": 72,
   "metadata": {},
   "outputs": [],
   "source": [
    "reg_for_helpful = LinearRegression().fit(helpful, ratio)"
   ]
  },
  {
   "cell_type": "code",
   "execution_count": 81,
   "metadata": {},
   "outputs": [
    {
     "name": "stdout",
     "output_type": "stream",
     "text": [
      "This is for readership: [-0.01047036 -0.07413579  0.0048672   0.04432912  0.09628507  0.42113113]\n",
      "This is for helpfulness: [ 0.02935702  0.02935702  0.09910268 -0.00994863  0.19413566]\n"
     ]
    }
   ],
   "source": [
    "helpful['ratio'] = ratio\n",
    "reg_for_helpful.coef_\n",
    "print(\"This is for readership:\",reg_for_reader.coef_)\n",
    "print(\"This is for helpfulness:\",reg_for_helpful.coef_)\n"
   ]
  },
  {
   "cell_type": "markdown",
   "metadata": {},
   "source": [
    "### Summary of Hypothesis testing"
   ]
  },
  {
   "cell_type": "code",
   "execution_count": 79,
   "metadata": {},
   "outputs": [
    {
     "name": "stdout",
     "output_type": "stream",
     "text": [
      "This is for readership: [-0.01047036 -0.07413579  0.0048672   0.04432912  0.09628507  0.42113113]\n",
      "This is for helpfulness: [ 0.02935702  0.02935702  0.09910268 -0.00994863  0.19413566]\n"
     ]
    },
    {
     "data": {
      "text/html": [
       "<div>\n",
       "<style scoped>\n",
       "    .dataframe tbody tr th:only-of-type {\n",
       "        vertical-align: middle;\n",
       "    }\n",
       "\n",
       "    .dataframe tbody tr th {\n",
       "        vertical-align: top;\n",
       "    }\n",
       "\n",
       "    .dataframe thead th {\n",
       "        text-align: right;\n",
       "    }\n",
       "</style>\n",
       "<table border=\"1\" class=\"dataframe\">\n",
       "  <thead>\n",
       "    <tr style=\"text-align: right;\">\n",
       "      <th></th>\n",
       "      <th>Hypothesized relationship</th>\n",
       "      <th>Estimates (Wald Chi-square)</th>\n",
       "      <th>Results</th>\n",
       "    </tr>\n",
       "  </thead>\n",
       "  <tbody>\n",
       "    <tr>\n",
       "      <th>H1</th>\n",
       "      <td>Longevity → readership</td>\n",
       "      <td>lol</td>\n",
       "      <td>lol</td>\n",
       "    </tr>\n",
       "    <tr>\n",
       "      <th>H2</th>\n",
       "      <td>Title sentiment → readership</td>\n",
       "      <td>lol</td>\n",
       "      <td>lol</td>\n",
       "    </tr>\n",
       "    <tr>\n",
       "      <th>H3</th>\n",
       "      <td>Title sentiment × title positive → readership</td>\n",
       "      <td>lol</td>\n",
       "      <td>lol</td>\n",
       "    </tr>\n",
       "    <tr>\n",
       "      <th>H4</th>\n",
       "      <td>Title length → readership</td>\n",
       "      <td>lol</td>\n",
       "      <td>lol</td>\n",
       "    </tr>\n",
       "    <tr>\n",
       "      <th>H5</th>\n",
       "      <td>Review length → readership</td>\n",
       "      <td>lol</td>\n",
       "      <td>lol</td>\n",
       "    </tr>\n",
       "    <tr>\n",
       "      <th>H6</th>\n",
       "      <td>Review length → helpfulness</td>\n",
       "      <td>lol</td>\n",
       "      <td>lol</td>\n",
       "    </tr>\n",
       "    <tr>\n",
       "      <th>H7</th>\n",
       "      <td>Review sentiment → helpfulness</td>\n",
       "      <td>lol</td>\n",
       "      <td>lol</td>\n",
       "    </tr>\n",
       "    <tr>\n",
       "      <th>H8</th>\n",
       "      <td>Review sentiment × review neutral → helpfulness</td>\n",
       "      <td>lol</td>\n",
       "      <td>lol</td>\n",
       "    </tr>\n",
       "  </tbody>\n",
       "</table>\n",
       "</div>"
      ],
      "text/plain": [
       "                          Hypothesized relationship  \\\n",
       "H1                           Longevity → readership   \n",
       "H2                     Title sentiment → readership   \n",
       "H3    Title sentiment × title positive → readership   \n",
       "H4                        Title length → readership   \n",
       "H5                       Review length → readership   \n",
       "H6                      Review length → helpfulness   \n",
       "H7                   Review sentiment → helpfulness   \n",
       "H8  Review sentiment × review neutral → helpfulness   \n",
       "\n",
       "   Estimates (Wald Chi-square) Results  \n",
       "H1                         lol     lol  \n",
       "H2                         lol     lol  \n",
       "H3                         lol     lol  \n",
       "H4                         lol     lol  \n",
       "H5                         lol     lol  \n",
       "H6                         lol     lol  \n",
       "H7                         lol     lol  \n",
       "H8                         lol     lol  "
      ]
     },
     "execution_count": 79,
     "metadata": {},
     "output_type": "execute_result"
    }
   ],
   "source": [
    "table2Df = pd.DataFrame(columns=['Hypothesized relationship', 'Estimates (Wald Chi-square)', 'Results'], \n",
    "                        index = ['H1','H2','H3','H4','H5','H6','H7','H8'])\n",
    "table2Df.loc['H1'] = pd.Series({\n",
    "    'Hypothesized relationship' : 'Longevity → readership',\n",
    "    'Estimates (Wald Chi-square)': reg_for_reader.coef_[5],\n",
    "    'Results':'lol'\n",
    "})\n",
    "table2Df.loc['H2'] = pd.Series({\n",
    "    'Hypothesized relationship' : 'Title sentiment → readership',\n",
    "    'Estimates (Wald Chi-square)': reg_for_reader.coef_[0],\n",
    "    'Results':'lol'\n",
    "})\n",
    "table2Df.loc['H3'] = pd.Series({\n",
    "    'Hypothesized relationship' : 'Title sentiment × title positive → readership',\n",
    "    'Estimates (Wald Chi-square)': reg_for_reader.coef_[3],\n",
    "    'Results':'lol'\n",
    "})\n",
    "table2Df.loc['H4'] = pd.Series({\n",
    "    'Hypothesized relationship' : 'Title length → readership',\n",
    "    'Estimates (Wald Chi-square)': reg_for_reader.coef_[4],\n",
    "    'Results':'lol'\n",
    "})\n",
    "table2Df.loc['H5'] = pd.Series({\n",
    "    'Hypothesized relationship' : 'Review length → readership',\n",
    "    'Estimates (Wald Chi-square)': 'lol',\n",
    "    'Results':'lol'\n",
    "})\n",
    "table2Df.loc['H6'] = pd.Series({\n",
    "    'Hypothesized relationship' : 'Review length → helpfulness',\n",
    "    'Estimates (Wald Chi-square)': 'lol',\n",
    "    'Results':'lol'\n",
    "})\n",
    "table2Df.loc['H7'] = pd.Series({\n",
    "    'Hypothesized relationship' : 'Review sentiment → helpfulness',\n",
    "    'Estimates (Wald Chi-square)': 'lol',\n",
    "    'Results':'lol'\n",
    "})\n",
    "table2Df.loc['H8'] = pd.Series({\n",
    "    'Hypothesized relationship' : 'Review sentiment × review neutral → helpfulness',\n",
    "    'Estimates (Wald Chi-square)': 'lol',\n",
    "    'Results':'lol'\n",
    "})\n",
    "\n",
    "print(\"This is for readership:\",reg_for_reader.coef_)\n",
    "print(\"This is for helpfulness:\",reg_for_helpful.coef_)\n",
    "\n",
    "table2Df"
   ]
  },
  {
   "cell_type": "markdown",
   "metadata": {},
   "source": [
    "### Graphs\n",
    "#### The below contains 4 graphs as in the paper \n",
    "\n",
    "- polartiyText : ReviewPolarity\n",
    "- sentimentText : ReviewSentiment\n",
    "- polaritySummmary : TitlePolarity\n",
    "- Title_Sentiment : TitleSentiment"
   ]
  },
  {
   "cell_type": "code",
   "execution_count": null,
   "metadata": {},
   "outputs": [],
   "source": [
    "g = sns.catplot(x='polarityText',data=data, kind='count', aspect=1.5)\n",
    "g = sns.catplot(x='sentimentText',data=data, kind='count', aspect=1.5)\n",
    "g = sns.catplot(x='polaritySummary',data=data, kind='count', aspect=1.5)\n",
    "g = sns.catplot(x='Title_Sentiment',data=readerData, kind='count', aspect=1.5)"
   ]
  }
 ],
 "metadata": {
  "kernelspec": {
   "display_name": "Python 3",
   "language": "python",
   "name": "python3"
  },
  "language_info": {
   "codemirror_mode": {
    "name": "ipython",
    "version": 3
   },
   "file_extension": ".py",
   "mimetype": "text/x-python",
   "name": "python",
   "nbconvert_exporter": "python",
   "pygments_lexer": "ipython3",
   "version": "3.6.7"
  }
 },
 "nbformat": 4,
 "nbformat_minor": 2
}
