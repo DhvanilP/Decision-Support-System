{
 "cells": [
  {
   "cell_type": "code",
   "execution_count": 6,
   "metadata": {},
   "outputs": [],
   "source": [
    "import pandas as pd\n",jupy
    "import numpy as np"
   ]
  },
  {
   "cell_type": "code",
   "execution_count": 8,
   "metadata": {},
   "outputs": [],
   "source": [
    "def getSentimentsFromFile(nameOfFile):\n",
    "    file=open(nameOfFile, encoding = \"utf8\")\n",
    "    count=0\n",
    "    pos_neg_analysed=[]\n",
    "    for line in file:\n",
    "        count=count+1\n",
    "        if count is 1:\n",
    "            continue\n",
    "        temp = line.split('\\t')\n",
    "        temp_res = [temp[0],temp[2],temp[3],int(temp[2])-int(temp[3])-2]\n",
    "        pos_neg_analysed.append(temp_res)\n",
    "    return pos_neg_analysed\n",
    "\n",
    "def printList(listOfItem):\n",
    "    for i in range(len(listOfItem)):\n",
    "        print(listOfItem[i])"
   ]
  },
  {
   "cell_type": "code",
   "execution_count": null,
   "metadata": {},
   "outputs": [],
   "source": [
    "def main():\n",
    "    titleSenti = getSentimentsFromFile(\"reviews_title_sentiment.txt\")\n",
    "    textSenti = getSentimentsFromFile(\"reviews_text_sentiment.txt\")\n",
    "    printList(titleSenti)\n",
    "    printList(textSenti)\n",
    "    \n",
    "main()"
   ]
  }
 ],
 "metadata": {
  "kernelspec": {
   "display_name": "Python 3",
   "language": "python",
   "name": "python3"
  },
  "language_info": {
   "codemirror_mode": {
    "name": "ipython",
    "version": 3
   },
   "file_extension": ".py",
   "mimetype": "text/x-python",
   "name": "python",
   "nbconvert_exporter": "python",
   "pygments_lexer": "ipython3",
   "version": "3.6.7"
  }
 },
 "nbformat": 4,
 "nbformat_minor": 2
}
