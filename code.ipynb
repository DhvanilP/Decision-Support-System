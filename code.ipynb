{
 "cells": [
  {
   "cell_type": "code",
   "execution_count": null,
   "metadata": {
    "scrolled": true
   },
   "outputs": [],
   "source": [
    "import pandas as pd\n",
    "import numpy as np"
   ]
  },
  {
   "cell_type": "code",
   "execution_count": null,
   "metadata": {
    "scrolled": true
   },
   "outputs": [],
   "source": [
    "def getSentimentsAndLengthFromFile(nameOfFile):\n",
    "    df=pd.DataFrame()\n",
    "    file = open(nameOfFile, encoding = \"utf8\")\n",
    "    count = 0\n",
    "    column_names = []\n",
    "    for line in file:\n",
    "        count=count+1\n",
    "        if count is 1:\n",
    "            column_names = line.split('\\t')\n",
    "            df=pd.DataFrame(columns = column_names)\n",
    "        temp_line = line.rstrip().split('\\t')\n",
    "#         print(count,\":Line is:\",temp)\n",
    "        df = df.append(pd.Series(temp_line ,index = column_names), ignore_index = True)\n",
    "    file.close()\n",
    "    return df"
   ]
  },
  {
   "cell_type": "code",
   "execution_count": null,
   "metadata": {
    "scrolled": true
   },
   "outputs": [],
   "source": [
    "res = getSentimentsAndLengthFromFile(\"data_req_analysed.txt\")"
   ]
  },
  {
   "cell_type": "code",
   "execution_count": null,
   "metadata": {},
   "outputs": [],
   "source": [
    "print(res.head())\n",
    "print(res.tail())"
   ]
  },
  {
   "cell_type": "code",
   "execution_count": null,
   "metadata": {},
   "outputs": [],
   "source": [
    "# use below only once to save to csv\n",
    "# res.to_csv(r\"dataset_main.csv\")"
   ]
  },
  {
   "cell_type": "code",
   "execution_count": null,
   "metadata": {
    "scrolled": false
   },
   "outputs": [],
   "source": [
    "df=pd.read_csv(\"dataset_main.csv\")\n",
    "print(df)"
   ]
  },
  {
   "cell_type": "code",
   "execution_count": null,
   "metadata": {},
   "outputs": [],
   "source": []
  }
 ],
 "metadata": {
  "kernelspec": {
   "display_name": "Python 3",
   "language": "python",
   "name": "python3"
  },
  "language_info": {
   "codemirror_mode": {
    "name": "ipython",
    "version": 3
   },
   "file_extension": ".py",
   "mimetype": "text/x-python",
   "name": "python",
   "nbconvert_exporter": "python",
   "pygments_lexer": "ipython3",
   "version": "3.6.4"
  }
 },
 "nbformat": 4,
 "nbformat_minor": 2
}
