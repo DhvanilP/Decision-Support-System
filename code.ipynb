{
 "cells": [
  {
   "cell_type": "markdown",
   "metadata": {},
   "source": [
    "# Decison Support System\n",
    "### Deciding Factors\n",
    "- Longevity: time since review\n",
    "- Length of tile and text: count the number of words\n",
    "- Helpfulness of a review: ratio of “helpful votes” to “total votes”\n",
    "- Readership: total number of votes of a review\n",
    "- Select products wtih atleast 100 reviews, eliminated the reviews that had less than 4 votes\n",
    "- Polarity = positive sentiment + negative sentiment\n",
    "- Sentiment = positive sentiment - negative sentiment - 2:"
   ]
  },
  {
   "cell_type": "code",
   "execution_count": null,
   "metadata": {
    "scrolled": true
   },
   "outputs": [],
   "source": [
    "import pandas as pd\n",
    "import numpy as np\n",
    "import gzip \n",
    "import json\n",
    "import shutil"
   ]
  },
  {
   "cell_type": "code",
   "execution_count": null,
   "metadata": {
    "scrolled": true
   },
   "outputs": [],
   "source": [
    "def getSentimentsAndLengthFromFile(nameOfFile):\n",
    "    df=pd.DataFrame()\n",
    "    file = open(nameOfFile, encoding = \"utf8\")\n",
    "    count = 0\n",
    "    column_names = []\n",
    "    for line in file:\n",
    "        count=count+1\n",
    "        if count is 1:\n",
    "            column_names = line.split('\\t')\n",
    "            df=pd.DataFrame(columns = column_names)\n",
    "        temp_line = line.rstrip().split('\\t')\n",
    "        df = df.append(pd.Series(temp_line ,index = column_names), ignore_index = True)\n",
    "    file.close()\n",
    "    return df\n",
    "\n",
    "def unzipJson(filename, saveas):\n",
    "    \"both arguments are strings\"\n",
    "    with gzip.open(filename, 'rb') as f_in:\n",
    "        with open(saveas, 'wb') as f_out:\n",
    "            shutil.copyfileobj(f_in, f_out)\n",
    "            \n",
    "def getDataFromJsonFile(filename, noOfRev):\n",
    "    count = 0\n",
    "    df = pd.DataFrame()\n",
    "    with open(filename, 'r') as f:\n",
    "        for line in f:\n",
    "            if count == noOfRev:\n",
    "                break\n",
    "            count = count + 1\n",
    "            if count%500==0:\n",
    "                print(count)\n",
    "            data = json.loads(line)\n",
    "            dictionary=json.loads(line)\n",
    "#             print(\"______________________________________\")\n",
    "#             print(count,\":::\",dictionary['helpful'])\n",
    "            dictionary[\"helpful\"] = str(dictionary[\"helpful\"][0])+\":\"+str(dictionary[\"helpful\"][1])\n",
    "#             print(count,\":::\",dictionary['helpful'])\n",
    "#             print(\"______________________________________\")\n",
    "            df = df.append(pd.DataFrame(dictionary,index = [count]), sort = False)\n",
    "    return df\n",
    "    "
   ]
  },
  {
   "cell_type": "markdown",
   "metadata": {},
   "source": [
    "#### Description of the below cell\n",
    "- unzip the json.gz file \n",
    "- get a dataFrame consisting of 35000 reviews\n",
    "- store this dataFrame in a csv file\n",
    "- now this csv file is converted to a txt file that is then\n",
    "    analysed using the sentistrength software, resulting is a\n",
    "    txt file having analysed result"
   ]
  },
  {
   "cell_type": "code",
   "execution_count": null,
   "metadata": {},
   "outputs": [],
   "source": [
    "# unzipJson(\"reviews_Electronics_5.json.gz\",\"reviews_Electronics_5.json\")\n",
    "# df = getDataFromJsonFile(\"reviews_Electronics_5.json\",35000)\n",
    "# df.to_csv(\"dataset_electronic.csv\")\n"
   ]
  },
  {
   "cell_type": "markdown",
   "metadata": {},
   "source": [
    "#### Description of the below cell\n",
    "- dataset_analysed.txt contains all the analysed data that is converted to a dataFrame\n",
    "- dataFrame is stored in a csv file for faster access next time\n"
   ]
  },
  {
   "cell_type": "code",
   "execution_count": null,
   "metadata": {},
   "outputs": [],
   "source": [
    "# data = getSentimentsAndLengthFromFile(\"dataset_analysed.txt\")"
   ]
  },
  {
   "cell_type": "code",
   "execution_count": null,
   "metadata": {},
   "outputs": [],
   "source": [
    "# data = data.drop(0,0)\n",
    "# data.to_csv(\"dataset.csv\")"
   ]
  },
  {
   "cell_type": "code",
   "execution_count": null,
   "metadata": {},
   "outputs": [],
   "source": [
    "data = pd.read_scv('dataset.csv')"
   ]
  },
  {
   "cell_type": "code",
   "execution_count": null,
   "metadata": {},
   "outputs": [],
   "source": []
  },
  {
   "cell_type": "code",
   "execution_count": null,
   "metadata": {},
   "outputs": [],
   "source": [
    "df = data.groupby(\"asin\").count()[\"no\"]>100\n",
    "df.to_csv(\"delete.csv\")"
   ]
  },
  {
   "cell_type": "code",
   "execution_count": null,
   "metadata": {},
   "outputs": [],
   "source": [
    "tp = pd.read_csv(\"delete.csv\")\n",
    "tp.groupby(\"boool\").count()  "
   ]
  },
  {
   "cell_type": "code",
   "execution_count": null,
   "metadata": {},
   "outputs": [],
   "source": []
  }
 ],
 "metadata": {
  "kernelspec": {
   "display_name": "Python 3",
   "language": "python",
   "name": "python3"
  },
  "language_info": {
   "codemirror_mode": {
    "name": "ipython",
    "version": 3
   },
   "file_extension": ".py",
   "mimetype": "text/x-python",
   "name": "python",
   "nbconvert_exporter": "python",
   "pygments_lexer": "ipython3",
   "version": "3.7.2"
  }
 },
 "nbformat": 4,
 "nbformat_minor": 2
}
